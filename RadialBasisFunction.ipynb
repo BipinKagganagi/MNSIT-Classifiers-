{
 "cells": [
  {
   "cell_type": "code",
   "execution_count": null,
   "metadata": {},
   "outputs": [],
   "source": [
    "from sklearn.metrics import confusion_matrix\n",
    "from numpy import ndarray\n",
    "import matplotlib.pyplot as plt\n",
    "from tensorflow.examples.tutorials.mnist import input_data\n",
    "import tensorflow as tf\n",
    "from __future__ import print_function\n",
    "import numpy as np\n",
    "import sklearn"
   ]
  },
  {
   "cell_type": "code",
   "execution_count": null,
   "metadata": {},
   "outputs": [],
   "source": [
    "# Extracting the data set\n",
    "mnist = input_data.read_data_sets(\"/data/\", one_hot=True)"
   ]
  },
  {
   "cell_type": "code",
   "execution_count": null,
   "metadata": {},
   "outputs": [],
   "source": [
    "# parameters intialized \n",
    "learning_rate = 0.0001\n",
    "training_epochs = 5\n",
    "batch_size = 100\n",
    "display_step = 0.5\n",
    "a = np.zeros(shape=(10,10))\n",
    "\n",
    "# Network Parameters\n",
    "n_hidden_1 = 256 # 1st layer number of neurons\n",
    "n_input = 784 # MNIST data input (img shape: 28*28)\n",
    "n_classes = 10 # MNIST total classes (0-9 digits)"
   ]
  },
  {
   "cell_type": "code",
   "execution_count": null,
   "metadata": {},
   "outputs": [],
   "source": [
    "# Graph of Tensor Flow\n",
    "X = tf.placeholder(\"float\", [None, n_input])\n",
    "Y = tf.placeholder(\"float\", [None, n_classes])"
   ]
  },
  {
   "cell_type": "code",
   "execution_count": null,
   "metadata": {},
   "outputs": [],
   "source": [
    "# Weights and Bias \n",
    "weights = {\n",
    "    'h1': tf.Variable(tf.random_normal([n_input, n_hidden_1])),\n",
    "    'out': tf.Variable(tf.random_normal([n_hidden_1, n_classes]))\n",
    "}\n",
    "biases = {\n",
    "    'b1': tf.Variable(tf.random_normal([n_hidden_1])),\n",
    "    'out': tf.Variable(tf.random_normal([n_classes]))\n",
    "}"
   ]
  },
  {
   "cell_type": "code",
   "execution_count": null,
   "metadata": {},
   "outputs": [],
   "source": [
    "# RBF - Radial Basis \n",
    "def RBF(x, C):\n",
    "    \"\"\"Computes distance from cluster centers defined in input C\n",
    "    \n",
    "    Both outdim and indim should be integers.\n",
    "    \"\"\"\n",
    "    return -tf.sqrt(tf.reduce_sum(tf.square(tf.subtract(tf.expand_dims(x,2),\n",
    "                                                   tf.expand_dims(C,0))),1))"
   ]
  },
  {
   "cell_type": "code",
   "execution_count": null,
   "metadata": {},
   "outputs": [],
   "source": [
    "# Creating MLP model\n",
    "def multilayer_perceptron(x):\n",
    "    # Hidden fully connected layer with 256 neurons\n",
    "    layer_1 = tf.add(tf.matmul(x, weights['h1']), biases['b1'])\n",
    "    layer_1 = tf.nn.relu(layer_1)\n",
    "    \n",
    "    return layer_1\n"
   ]
  },
  {
   "cell_type": "code",
   "execution_count": null,
   "metadata": {},
   "outputs": [],
   "source": [
    "# Constructing a model\n",
    "input_X = multilayer_perceptron(X)\n",
    "\n",
    "logits = RBF(input_X,weights['out'])+biases['out']\n",
    "\n",
    "\n",
    "cross_entropy = tf.reduce_mean(tf.nn.softmax_cross_entropy_with_logits(logits=logits, labels=Y))\n",
    "train_step = tf.train.AdamOptimizer(1e-4).minimize(cross_entropy)\n",
    "correct_prediction = tf.equal(tf.argmax(logits,1), tf.argmax(Y,1))\n",
    "accuracy = tf.reduce_mean(tf.cast(correct_prediction, tf.float32))\n",
    "i = 0\n",
    "train_accuracy = np.zeros((1,100))\n",
    "avg_cost = np.zeros((1,100))\n",
    "count = np.zeros((1,100))\n",
    "with tf.Session() as sess:\n",
    "    sess.run(tf.global_variables_initializer())\n",
    "\n",
    "    for i in range(10000):\n",
    "        batch = mnist.train.next_batch(100)\n",
    "        \n",
    "\n",
    "        if i%100 == 0:\n",
    "            j = int(i/100)\n",
    "            print(j)\n",
    "            count[0][j-1] = j\n",
    "            train_accuracy[0][j-1] = accuracy.eval(feed_dict={\n",
    "                X:batch[0], Y: batch[1]})\n",
    "            _,c = sess.run([train_step,cross_entropy],feed_dict={X:batch[0], Y:batch[1]})\n",
    "            total_batches = j\n",
    "            avg_cost[0][j-1] = c/total_batches \n",
    "            print(\"\\rstep %d, training accuracy %g\"%(i, train_accuracy[0][j-1]), end=\"\" if i%10 else \"\\n\")\n",
    "        train_step.run(feed_dict={X: batch[0], Y: batch[1]})\n",
    "    accuracy = tf.reduce_mean(tf.cast(correct_prediction, \"float\"))\n",
    "    print(\" Testing Accuracy:\", accuracy.eval({X: mnist.test.images, Y: mnist.test.labels}))\n",
    "    pred = tf.nn.softmax(logits)  # Applyinf Softmax to logits\n",
    "    confusionmatrix = tf.contrib.metrics.confusion_matrix(tf.argmax(Y,1), tf.argmax(pred,1))\n",
    "    print('confusion matrix \\n', tf.Tensor.eval(confusionmatrix,feed_dict={X: mnist.train.images, Y: mnist.train.labels}, session= None) )\n"
   ]
  },
  {
   "cell_type": "code",
   "execution_count": null,
   "metadata": {},
   "outputs": [],
   "source": [
    "X = ([0, 1000, 2000, 3000, 4000, 5000, 6000, 7000, 7900])\n",
    "Y = ([0.04, 0.64, 0.78, 0.88, 0.89, 0.89, 0.87, 0.91, 0.9209])\n",
    "plt.plot(X,Y,'b--')\n",
    "plt.xlabel('Epoch')\n",
    "plt.ylabel('Accuracy')\n",
    "plt.title('Accuracy as a function of Epoch in RBF')\n",
    "plt.legend(loc = \"best\")\n",
    "plt.show()\n"
   ]
  }
 ],
 "metadata": {
  "kernelspec": {
   "display_name": "Python 3",
   "language": "python",
   "name": "python3"
  },
  "language_info": {
   "codemirror_mode": {
    "name": "ipython",
    "version": 3
   },
   "file_extension": ".py",
   "mimetype": "text/x-python",
   "name": "python",
   "nbconvert_exporter": "python",
   "pygments_lexer": "ipython3",
   "version": "3.6.2"
  }
 },
 "nbformat": 4,
 "nbformat_minor": 2
}
